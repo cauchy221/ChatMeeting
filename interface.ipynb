{
 "cells": [
  {
   "cell_type": "code",
   "execution_count": 67,
   "metadata": {},
   "outputs": [
    {
     "name": "stdout",
     "output_type": "stream",
     "text": [
      "Running on local URL:  http://127.0.0.1:7917\n",
      "Running on public URL: https://ccf7b4e0f7c22f9f17.gradio.live\n",
      "\n",
      "This share link expires in 72 hours. For free permanent hosting and GPU upgrades (NEW!), check out Spaces: https://huggingface.co/spaces\n"
     ]
    },
    {
     "data": {
      "text/html": [
       "<div><iframe src=\"https://ccf7b4e0f7c22f9f17.gradio.live\" width=\"100%\" height=\"500\" allow=\"autoplay; camera; microphone; clipboard-read; clipboard-write;\" frameborder=\"0\" allowfullscreen></iframe></div>"
      ],
      "text/plain": [
       "<IPython.core.display.HTML object>"
      ]
     },
     "metadata": {},
     "output_type": "display_data"
    },
    {
     "data": {
      "text/plain": []
     },
     "execution_count": 67,
     "metadata": {},
     "output_type": "execute_result"
    },
    {
     "name": "stderr",
     "output_type": "stream",
     "text": [
      "Traceback (most recent call last):\n",
      "  File \"C:\\Users\\86139\\AppData\\Roaming\\Python\\Python37\\site-packages\\gradio\\routes.py\", line 421, in run_predict\n",
      "    event_data=event_data,\n",
      "  File \"C:\\Users\\86139\\AppData\\Roaming\\Python\\Python37\\site-packages\\gradio\\blocks.py\", line 1321, in process_api\n",
      "    fn_index, inputs, iterator, request, event_id, event_data\n",
      "  File \"C:\\Users\\86139\\AppData\\Roaming\\Python\\Python37\\site-packages\\gradio\\blocks.py\", line 1049, in call_function\n",
      "    fn, *processed_input, limiter=self.limiter\n",
      "  File \"C:\\Users\\86139\\AppData\\Roaming\\Python\\Python37\\site-packages\\anyio\\to_thread.py\", line 32, in run_sync\n",
      "    func, *args, cancellable=cancellable, limiter=limiter\n",
      "  File \"C:\\Users\\86139\\AppData\\Roaming\\Python\\Python37\\site-packages\\anyio\\_backends\\_asyncio.py\", line 937, in run_sync_in_worker_thread\n",
      "    return await future\n",
      "  File \"C:\\Users\\86139\\AppData\\Roaming\\Python\\Python37\\site-packages\\anyio\\_backends\\_asyncio.py\", line 867, in run\n",
      "    result = context.run(func, *args)\n",
      "  File \"C:\\Users\\86139\\AppData\\Local\\Temp/ipykernel_18048/2308631054.py\", line 6, in upload_file\n",
      "    doc = Document(file.name)\n",
      "AttributeError: 'NoneType' object has no attribute 'name'\n",
      "Traceback (most recent call last):\n",
      "  File \"C:\\Users\\86139\\AppData\\Roaming\\Python\\Python37\\site-packages\\gradio\\routes.py\", line 421, in run_predict\n",
      "    event_data=event_data,\n",
      "  File \"C:\\Users\\86139\\AppData\\Roaming\\Python\\Python37\\site-packages\\gradio\\blocks.py\", line 1321, in process_api\n",
      "    fn_index, inputs, iterator, request, event_id, event_data\n",
      "  File \"C:\\Users\\86139\\AppData\\Roaming\\Python\\Python37\\site-packages\\gradio\\blocks.py\", line 1049, in call_function\n",
      "    fn, *processed_input, limiter=self.limiter\n",
      "  File \"C:\\Users\\86139\\AppData\\Roaming\\Python\\Python37\\site-packages\\anyio\\to_thread.py\", line 32, in run_sync\n",
      "    func, *args, cancellable=cancellable, limiter=limiter\n",
      "  File \"C:\\Users\\86139\\AppData\\Roaming\\Python\\Python37\\site-packages\\anyio\\_backends\\_asyncio.py\", line 937, in run_sync_in_worker_thread\n",
      "    return await future\n",
      "  File \"C:\\Users\\86139\\AppData\\Roaming\\Python\\Python37\\site-packages\\anyio\\_backends\\_asyncio.py\", line 867, in run\n",
      "    result = context.run(func, *args)\n",
      "  File \"C:\\Users\\86139\\AppData\\Local\\Temp/ipykernel_18048/2308631054.py\", line 6, in upload_file\n",
      "    doc = Document(file.name)\n",
      "AttributeError: 'NoneType' object has no attribute 'name'\n",
      "Traceback (most recent call last):\n",
      "  File \"C:\\Users\\86139\\AppData\\Roaming\\Python\\Python37\\site-packages\\gradio\\routes.py\", line 421, in run_predict\n",
      "    event_data=event_data,\n",
      "  File \"C:\\Users\\86139\\AppData\\Roaming\\Python\\Python37\\site-packages\\gradio\\blocks.py\", line 1321, in process_api\n",
      "    fn_index, inputs, iterator, request, event_id, event_data\n",
      "  File \"C:\\Users\\86139\\AppData\\Roaming\\Python\\Python37\\site-packages\\gradio\\blocks.py\", line 1049, in call_function\n",
      "    fn, *processed_input, limiter=self.limiter\n",
      "  File \"C:\\Users\\86139\\AppData\\Roaming\\Python\\Python37\\site-packages\\anyio\\to_thread.py\", line 32, in run_sync\n",
      "    func, *args, cancellable=cancellable, limiter=limiter\n",
      "  File \"C:\\Users\\86139\\AppData\\Roaming\\Python\\Python37\\site-packages\\anyio\\_backends\\_asyncio.py\", line 937, in run_sync_in_worker_thread\n",
      "    return await future\n",
      "  File \"C:\\Users\\86139\\AppData\\Roaming\\Python\\Python37\\site-packages\\anyio\\_backends\\_asyncio.py\", line 867, in run\n",
      "    result = context.run(func, *args)\n",
      "  File \"C:\\Users\\86139\\AppData\\Local\\Temp/ipykernel_18048/2308631054.py\", line 6, in upload_file\n",
      "    doc = Document(file.name)\n",
      "AttributeError: 'NoneType' object has no attribute 'name'\n"
     ]
    }
   ],
   "source": [
    "import gradio as gr\n",
    "from docx import Document\n",
    "\n",
    "\n",
    "def upload_file(file):\n",
    "    doc = Document(file.name)\n",
    "    content = \"\"\n",
    "    for para in doc.paragraphs:\n",
    "        content += para.text\n",
    "        content += '\\n'\n",
    "    return content\n",
    "\n",
    "\n",
    "with gr.Blocks(theme=gr.themes.Default(text_size='lg', radius_size='sm')) as demo:\n",
    "    with gr.Column():\n",
    "        # 产品介绍\n",
    "        title = gr.Markdown(\"# <center>ChatMeeting</center>\")\n",
    "        desc = gr.Markdown(\"<center>让AI帮你整理会议纪要\\n\\n支持.docx文件</center>\")\n",
    "    \n",
    "    with gr.Column():\n",
    "        # 文件上传\n",
    "        file_input = gr.File(file_types=[\".docx\"], label=\"原始文稿\", interactive=True)\n",
    "        upload_btn = gr.Button(value=\"上传\").style(full_width=True, size='lg')\n",
    "\n",
    "    with gr.Row():\n",
    "        with gr.Column():\n",
    "            # 内容展示\n",
    "            content_box = gr.Textbox(label=\"文稿内容\")\n",
    "        with gr.Column():\n",
    "            # 对话交互\n",
    "            chatbot = gr.Chatbot()\n",
    "            msg = gr.Textbox(label=\"用户\", placeholder=\"请输入指令\")\n",
    "            clear = gr.Button(value=\"清空\")\n",
    "\n",
    "            def respond(message, chat_history):\n",
    "                bot_message = \"你好，我是ChatMeeting，我能帮你整理会议纪要\"\n",
    "                chat_history.append((message, bot_message))\n",
    "                return \"\", chat_history\n",
    "\n",
    "            msg.submit(respond, [msg, chatbot], [msg, chatbot])\n",
    "            clear.click(lambda: None, None, chatbot, queue=False)\n",
    "\n",
    "    upload_btn.click(fn=upload_file, inputs=file_input, outputs=content_box)\n",
    "\n",
    "\n",
    "demo.launch(share=True)"
   ]
  },
  {
   "cell_type": "code",
   "execution_count": null,
   "metadata": {},
   "outputs": [],
   "source": []
  }
 ],
 "metadata": {
  "kernelspec": {
   "display_name": "pytorch",
   "language": "python",
   "name": "python3"
  },
  "language_info": {
   "codemirror_mode": {
    "name": "ipython",
    "version": 3
   },
   "file_extension": ".py",
   "mimetype": "text/x-python",
   "name": "python",
   "nbconvert_exporter": "python",
   "pygments_lexer": "ipython3",
   "version": "3.7.2"
  },
  "orig_nbformat": 4
 },
 "nbformat": 4,
 "nbformat_minor": 2
}
